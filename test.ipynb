{
 "cells": [
  {
   "cell_type": "code",
   "execution_count": 1,
   "metadata": {},
   "outputs": [],
   "source": [
    "from llmhandler import chat, Message, MessageDB\n",
    "from llmhandler.tools import timezone_difference\n",
    "\n",
    "\n",
    "functions = [timezone_difference.init()]\n",
    "available_functions = { \"timezone_difference\": timezone_difference.run }"
   ]
  },
  {
   "cell_type": "code",
   "execution_count": 2,
   "metadata": {},
   "outputs": [
    {
     "name": "stdout",
     "output_type": "stream",
     "text": [
      "Assistant is calling function: {'name': 'timezone_difference', 'arguments': '{\\n  \"location_1\": \"Asia/Singapore\",\\n  \"location_2\": \"Asia/Tokyo\"\\n}'}\n",
      "Assistant response: There is a time difference of 1 hour, with Singapore being 1 hour ahead of Tokyo.\n"
     ]
    }
   ],
   "source": [
    "import pprint\n",
    "\n",
    "# TODO: decide whether to store message history within an object or externally\n",
    "msg = MessageDB()\n",
    "msg.add(Message(\"user\",\"What's the time difference between Singapore and Tokyo\").raw())\n",
    "\n",
    "# TODO: add a class to handle config\n",
    "chat(\n",
    "    message_history=msg\n",
    "    , model=\"gpt-3.5-turbo-0613\"\n",
    "    , functions=functions\n",
    "    , callables=available_functions)"
   ]
  },
  {
   "cell_type": "code",
   "execution_count": 3,
   "metadata": {},
   "outputs": [
    {
     "data": {
      "text/plain": [
       "[{'role': 'user',\n",
       "  'content': \"What's the time difference between Singapore and Tokyo\"},\n",
       " {'role': 'assistant',\n",
       "  'content': None,\n",
       "  'function_call': <OpenAIObject at 0x7f5ad9618090> JSON: {\n",
       "    \"name\": \"timezone_difference\",\n",
       "    \"arguments\": \"{\\n  \\\"location_1\\\": \\\"Asia/Singapore\\\",\\n  \\\"location_2\\\": \\\"Asia/Tokyo\\\"\\n}\"\n",
       "  },\n",
       "  'usage': <OpenAIObject at 0x7f5ad95f7470> JSON: {\n",
       "    \"prompt_tokens\": 93,\n",
       "    \"completion_tokens\": 32,\n",
       "    \"total_tokens\": 125\n",
       "  }},\n",
       " {'role': 'function',\n",
       "  'name': 'timezone_difference',\n",
       "  'content': '1 hours, 0 minutes after'},\n",
       " {'role': 'assistant',\n",
       "  'content': 'There is a time difference of 1 hour, with Singapore being 1 hour ahead of Tokyo.',\n",
       "  'usage': <OpenAIObject at 0x7f5ad95f77e0> JSON: {\n",
       "    \"prompt_tokens\": 63,\n",
       "    \"completion_tokens\": 20,\n",
       "    \"total_tokens\": 83\n",
       "  }}]"
      ]
     },
     "execution_count": 3,
     "metadata": {},
     "output_type": "execute_result"
    }
   ],
   "source": [
    "msg.dump()"
   ]
  },
  {
   "cell_type": "code",
   "execution_count": 4,
   "metadata": {},
   "outputs": [
    {
     "data": {
      "text/plain": [
       "[{'role': 'user',\n",
       "  'content': \"What's the time difference between Singapore and Tokyo\"},\n",
       " {'role': 'assistant',\n",
       "  'content': None,\n",
       "  'function_call': <OpenAIObject at 0x7f5ad9618090> JSON: {\n",
       "    \"name\": \"timezone_difference\",\n",
       "    \"arguments\": \"{\\n  \\\"location_1\\\": \\\"Asia/Singapore\\\",\\n  \\\"location_2\\\": \\\"Asia/Tokyo\\\"\\n}\"\n",
       "  }},\n",
       " {'role': 'function',\n",
       "  'name': 'timezone_difference',\n",
       "  'content': '1 hours, 0 minutes after'},\n",
       " {'role': 'assistant',\n",
       "  'content': 'There is a time difference of 1 hour, with Singapore being 1 hour ahead of Tokyo.'}]"
      ]
     },
     "execution_count": 4,
     "metadata": {},
     "output_type": "execute_result"
    }
   ],
   "source": [
    "msg.raw()"
   ]
  }
 ],
 "metadata": {
  "kernelspec": {
   "display_name": "py310_llm",
   "language": "python",
   "name": "python3"
  },
  "language_info": {
   "codemirror_mode": {
    "name": "ipython",
    "version": 3
   },
   "file_extension": ".py",
   "mimetype": "text/x-python",
   "name": "python",
   "nbconvert_exporter": "python",
   "pygments_lexer": "ipython3",
   "version": "3.10.12"
  },
  "orig_nbformat": 4
 },
 "nbformat": 4,
 "nbformat_minor": 2
}
